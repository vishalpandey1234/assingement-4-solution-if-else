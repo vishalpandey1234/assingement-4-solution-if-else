{
 "cells": [
  {
   "cell_type": "code",
   "execution_count": null,
   "id": "e8406f57-0847-42e6-96d6-a5afd1d93083",
   "metadata": {},
   "outputs": [],
   "source": [
    "Q1. Write a program to calculate the electricity bill using only if statement? (accept number of unit from user)\n",
    "according to the following criteria:\n",
    "\n",
    "Unit                  Price\n",
    "First 100 units       no charge\n",
    "Next 100 units        Rs 5 per unit\n",
    "After 200 units       Rs 10 per unit"
   ]
  },
  {
   "cell_type": "code",
   "execution_count": 13,
   "id": "0b1d0314-d154-465e-b4f1-f40200a4cb47",
   "metadata": {},
   "outputs": [
    {
     "name": "stdout",
     "output_type": "stream",
     "text": [
      "enter unit : 350\n",
      "your total amount is : ₹ 2000\n"
     ]
    },
    {
     "name": "stdout",
     "output_type": "stream",
     "text": [
      "your total amount is : ₹ 2000\n"
     ]
    }
   ],
   "source": [
    "unit_user = int(input(\"enter unit :\"))\n",
    "bill = 0 \n",
    "if unit_user > 100:\n",
    "    if unit_user >200:\n",
    "        bill += (unit_user - 200)*10\n",
    "        bill += 100* 5\n",
    "    else:\n",
    "        bill +=(unit_user - 100)*5\n",
    "print(\"your total amount is : ₹\" , bill) \n"
   ]
  },
  {
   "cell_type": "code",
   "execution_count": null,
   "id": "3e6cc2f0-152e-4482-86d5-08e9a1241b1b",
   "metadata": {},
   "outputs": [],
   "source": [
    "Q2. Write a program to accept percentage from the user and display the grade according to the following criteria:\n",
    "Marks                  Grade\n",
    "> 90                    A\n",
    "> 80 and <= 90          B\n",
    ">= 60 and <= 80         C\n",
    "below 60                D"
   ]
  },
  {
   "cell_type": "code",
   "execution_count": 19,
   "id": "b7d33003-42ba-4d89-a81d-f418351d0ee1",
   "metadata": {},
   "outputs": [
    {
     "name": "stdout",
     "output_type": "stream",
     "text": [
      "enter your marks 4888\n",
      "invaild input\n"
     ]
    },
    {
     "name": "stdout",
     "output_type": "stream",
     "text": [
      "invaild input\n"
     ]
    }
   ],
   "source": [
    "marks = int(input(\"enter your marks\"))\n",
    "if marks > 100:\n",
    "    print(\"invaild input\")\n",
    "elif marks < 100:\n",
    "    print(\"invaild input\")\n",
    "elif marks > 90:\n",
    "    print(\"you are a A grade student\")\n",
    "elif marks > 80 and marks <= 90:\n",
    "    print(\"you are a B grade student\")\n",
    "elif marks >= 60 and marks <= 80:\n",
    "    print(\"you are a C grade student\")\n",
    "else:\n",
    "    print(\"you are a D grade student\")\n"
   ]
  },
  {
   "cell_type": "code",
   "execution_count": null,
   "id": "6488fb9a-a842-4ae1-8583-2fe984ee04b9",
   "metadata": {},
   "outputs": [],
   "source": [
    "Q3. Accept the age of 4 people and display the youngest one?"
   ]
  },
  {
   "cell_type": "code",
   "execution_count": 25,
   "id": "6bab30c2-fd59-4ea0-9559-6e548087e702",
   "metadata": {},
   "outputs": [
    {
     "name": "stdout",
     "output_type": "stream",
     "text": [
      "enter your age : 67\n",
      "enter your age : 88\n",
      "enter your age : 55\n",
      "enter your age : 47\n",
      "your are youngest person which age  47\n"
     ]
    },
    {
     "name": "stdout",
     "output_type": "stream",
     "text": [
      "your are youngest person which age  47\n"
     ]
    }
   ],
   "source": [
    "person1 = int(input(\"enter your age :\"))\n",
    "person2 = int(input(\"enter your age :\"))\n",
    "person3 = int(input(\"enter your age :\"))\n",
    "person4 = int(input(\"enter your age :\"))\n",
    "youngest = min(person1,person2,person3,person4)\n",
    "print(\"your are youngest person with age\",youngest)"
   ]
  },
  {
   "cell_type": "code",
   "execution_count": null,
   "id": "80f13b7d-f6a1-427d-93af-59d05f6bac18",
   "metadata": {},
   "outputs": [],
   "source": [
    "Q4. A company decided to give bonus to employee according to following criteria:\n",
    "\n",
    "Time period                    Service Bonus\n",
    "\n",
    "More than 10 years              10%\n",
    "\n",
    ">=6 and <=10                    8%\n",
    "\n",
    "Less than 6 years               5%\n",
    "\n",
    "Ask user for their salary and years of service and print the\n",
    "net bonus amount?"
   ]
  },
  {
   "cell_type": "code",
   "execution_count": 7,
   "id": "0821e6cd-f67d-4d3b-b59d-05b6a629f9af",
   "metadata": {},
   "outputs": [
    {
     "name": "stdout",
     "output_type": "stream",
     "text": [
      "enter your salary : 50000\n",
      "enter your time period 7\n",
      "your bounus is  4000.0\n"
     ]
    },
    {
     "name": "stdout",
     "output_type": "stream",
     "text": [
      "your bounus is  4000.0\n"
     ]
    }
   ],
   "source": [
    "salary = float(input(\"enter your salary :\"))\n",
    "time_services = int(input(\"enter your time period :\"))\n",
    "if time_services > 10:\n",
    "    bounus = 10\n",
    "elif time_services >= 6 and time_services <= 10:\n",
    "    bounus = 8\n",
    "else:\n",
    "    bounus = 5\n",
    "bounus_amount = (bounus/100)*salary\n",
    "print(\"your bounus is \",bounus_amount)\n",
    "\n",
    "    "
   ]
  },
  {
   "cell_type": "code",
   "execution_count": null,
   "id": "bc80aa23-92ca-463a-8614-a7060e1ca329",
   "metadata": {},
   "outputs": [],
   "source": [
    "Q5. Accept three numbers from the user and display the second largest number?"
   ]
  },
  {
   "cell_type": "code",
   "execution_count": 13,
   "id": "b3e0a759-bd39-42d4-904d-3f7dcd9b0142",
   "metadata": {},
   "outputs": [
    {
     "name": "stdout",
     "output_type": "stream",
     "text": [
      "enter first number : 66\n",
      "enter second number: 487\n",
      "enter third number : 47995\n",
      "second_largest_number is 487\n"
     ]
    },
    {
     "name": "stdout",
     "output_type": "stream",
     "text": [
      "second_largest_number is 487\n"
     ]
    }
   ],
   "source": [
    "a = int(input(\"enter first number :\"))\n",
    "b = int(input(\"enter second number:\"))\n",
    "c = int(input(\"enter third number :\"))\n",
    "if(a > b and a<c) or (a>c and a<b):\n",
    "    second_largest_number =a\n",
    "elif (b>a and b<c) or (b>c and b<a):\n",
    "    second_largest_number = b\n",
    "else:\n",
    "    second_largest_number = c\n",
    "print(\"second_largest_number is\",second_largest_number)\n"
   ]
  },
  {
   "cell_type": "code",
   "execution_count": null,
   "id": "577eb635-0077-4848-9b9b-3b52f3f66f7b",
   "metadata": {},
   "outputs": [],
   "source": [
    "Q6. Accept the marked price from the user and calculate the Net amount as (Marked Price – Discount) to pay\n",
    "according to following criteria:\n",
    "\n",
    "Marked Price                      Discount\n",
    ">10000                              20%\n",
    ">7000 and <=10000                   15%\n",
    "<=7000                              10%"
   ]
  },
  {
   "cell_type": "code",
   "execution_count": 19,
   "id": "32e0442c-b2cc-4cef-9d72-05c22e958901",
   "metadata": {},
   "outputs": [
    {
     "name": "stdout",
     "output_type": "stream",
     "text": [
      "enter marked Price : 12000\n",
      "marked_price: ₹12000.0\n",
      "discout apllied: ₹2400.0\n",
      "net amount to pay: ₹9600.0\n"
     ]
    },
    {
     "name": "stdout",
     "output_type": "stream",
     "text": [
      "marked_price: ₹12000.0\n",
      "discout apllied: ₹2400.0\n",
      "net amount to pay: ₹9600.0\n"
     ]
    }
   ],
   "source": [
    "marked_price = float(input(\"enter marked Price :\"))\n",
    "if marked_price > 10000:\n",
    "    discount_rate = 0.20\n",
    "elif marked_price >7000 and marked_price <= 10000:\n",
    "    discount_rate = 0.15\n",
    "else:\n",
    "    discount_rate = 0.10\n",
    "\n",
    "discount = marked_price * discount_rate\n",
    "\n",
    "net_amount = marked_price - discount\n",
    "\n",
    "print(f\"marked_price: ₹{marked_price}\")\n",
    "print(f\"discout apllied: ₹{discount}\")\n",
    "print(f\"net amount to pay: ₹{net_amount}\")"
   ]
  },
  {
   "cell_type": "code",
   "execution_count": null,
   "id": "6dbf1fe0-6a36-4aa1-909b-c2413f78de3c",
   "metadata": {},
   "outputs": [],
   "source": [
    "Q7. Accept the marks of English, Math and Science,Social Studies Subject and display the stream allotted\n",
    "according to following:\n",
    "\n",
    "All Subjects more than 80 marks          — Science Stream\n",
    "\n",
    "English >80 and Math, Science above 50   — Commerce Stream\n",
    "\n",
    "English > 80 and social studies > 80     — Humanities"
   ]
  },
  {
   "cell_type": "code",
   "execution_count": 4,
   "id": "b58971ef-30f3-4669-9030-2627cde43fe9",
   "metadata": {},
   "outputs": [
    {
     "name": "stdin",
     "output_type": "stream",
     "text": [
      "enter your english marks: 55\n",
      "enter your maths marks: 66\n",
      "enter your science marks: 59\n",
      "enter your social studies marks: 65\n"
     ]
    },
    {
     "name": "stdout",
     "output_type": "stream",
     "text": [
      "you got humanitites\n"
     ]
    }
   ],
   "source": [
    "english_marks= int(input(\"enter your english marks:\"))\n",
    "math_marks = int(input(\"enter your maths marks:\"))\n",
    "science_marks = int(input(\"enter your science marks:\"))\n",
    "social_studies =int(input(\"enter your social studies marks:\"))\n",
    "if english_marks >100 and science_marks>100 and math_marks>100 and social_studies>100:\n",
    "    print(\"invaild input\")\n",
    "elif english_marks >80 and science_marks >80 and math_marks >80 and social_studies > 80:\n",
    "    print(\"you got science stream\")\n",
    "elif english_marks > 80 and math_marks>50 and science_marks>50 and social_studies>50:\n",
    "    print(\"you got commerce stream\")\n",
    "else:\n",
    "    print(\"you got humanitites\")        "
   ]
  },
  {
   "cell_type": "code",
   "execution_count": null,
   "id": "aa1cdfd7-c556-40f5-b4fe-2036b2d97b8d",
   "metadata": {},
   "outputs": [],
   "source": [
    "Q8. Write a program to display \"Hello\" if a number entered by user is a multiple of five, otherwise print \"Bye\"?"
   ]
  },
  {
   "cell_type": "code",
   "execution_count": 10,
   "id": "5941f1db-bc16-4fba-9dc9-153fc838102a",
   "metadata": {},
   "outputs": [
    {
     "name": "stdin",
     "output_type": "stream",
     "text": [
      "enter a number 55\n"
     ]
    },
    {
     "name": "stdout",
     "output_type": "stream",
     "text": [
      "hello\n"
     ]
    }
   ],
   "source": [
    "number = int(input(\"enter a number :\"))\n",
    "if number % 5 == 0:\n",
    "    print(\"hello\")\n",
    "else:\n",
    "    print(\"bye\")"
   ]
  },
  {
   "cell_type": "code",
   "execution_count": null,
   "id": "b5dcb7d0-d1ac-43f3-bdaa-574d32b4a896",
   "metadata": {},
   "outputs": [],
   "source": [
    "Q9. Write a program to check whether the last digit of a number (entered by user) is divisible by 3 or not?"
   ]
  },
  {
   "cell_type": "code",
   "execution_count": 28,
   "id": "cf6e429f-5420-4960-91b0-408720f1ee0f",
   "metadata": {},
   "outputs": [
    {
     "name": "stdin",
     "output_type": "stream",
     "text": [
      "enter a number: 55555\n"
     ]
    },
    {
     "name": "stdout",
     "output_type": "stream",
     "text": [
      "55555 is not divisible by 3\n"
     ]
    }
   ],
   "source": [
    "num = int(input(\"enter a number:\"))\n",
    "last_digit = num % 10\n",
    "if last_digit % 3==0:\n",
    "    print(f'{num} is divisible by 3')\n",
    "else:\n",
    "    print(f\"{num} is not divisible by 3\")"
   ]
  },
  {
   "cell_type": "code",
   "execution_count": null,
   "id": "2e4f98ae-3cee-45f3-bc46-89b428df5c69",
   "metadata": {},
   "outputs": [],
   "source": [
    "Q10. Write a program to check whether a number entered is three-digit number or not?"
   ]
  },
  {
   "cell_type": "code",
   "execution_count": 38,
   "id": "1da015dd-3430-41c7-b6be-59fe6df8f3f5",
   "metadata": {},
   "outputs": [
    {
     "name": "stdin",
     "output_type": "stream",
     "text": [
      "enter three-digit number: 77\n"
     ]
    },
    {
     "name": "stdout",
     "output_type": "stream",
     "text": [
      "77 is three-digit number\n"
     ]
    }
   ],
   "source": [
    "num = int(input(\"enter three-digit number:\"))\n",
    "if 100 >= abs(num) <= 999:\n",
    "    print(f\"{num} is three-digit number\")\n",
    "else:\n",
    "    print(f\"{num} is not three-digit number\")"
   ]
  },
  {
   "cell_type": "code",
   "execution_count": null,
   "id": "f6b408d3-7905-4610-a88c-3c9faf235c06",
   "metadata": {},
   "outputs": [],
   "source": []
  }
 ],
 "metadata": {
  "kernelspec": {
   "display_name": "Python [conda env:base] *",
   "language": "python",
   "name": "conda-base-py"
  },
  "language_info": {
   "codemirror_mode": {
    "name": "ipython",
    "version": 3
   },
   "file_extension": ".py",
   "mimetype": "text/x-python",
   "name": "python",
   "nbconvert_exporter": "python",
   "pygments_lexer": "ipython3",
   "version": "3.12.7"
  }
 },
 "nbformat": 4,
 "nbformat_minor": 5
}
